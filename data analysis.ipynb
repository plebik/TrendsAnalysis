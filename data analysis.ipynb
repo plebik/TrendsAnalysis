{
 "cells": [
  {
   "cell_type": "code",
   "execution_count": 2,
   "id": "initial_id",
   "metadata": {
    "ExecuteTime": {
     "end_time": "2024-01-18T20:04:53.828466400Z",
     "start_time": "2024-01-18T20:04:53.818823700Z"
    }
   },
   "outputs": [],
   "source": [
    "import pandas as pd\n",
    "import geopandas as gpd\n",
    "import plotly.graph_objects as go"
   ]
  },
  {
   "cell_type": "code",
   "execution_count": 3,
   "id": "404f7b7321b238bf",
   "metadata": {
    "ExecuteTime": {
     "end_time": "2024-01-18T20:04:53.836465400Z",
     "start_time": "2024-01-18T20:04:53.824396Z"
    },
    "collapsed": false,
    "jupyter": {
     "outputs_hidden": false
    }
   },
   "outputs": [],
   "source": [
    "def group_by_category_year_by_year(frame):\n",
    "    frames_ = []\n",
    "    for y in reversed(frame['year'].unique()):\n",
    "        data_by_year_ = frame[frame['year'] == y]\n",
    "        group_by_category_ = data_by_year_.groupby('category')['salary_in_dollars'].mean()\n",
    "        group_by_category_ = group_by_category_.reset_index()\n",
    "        group_by_category_.columns = ['category', y]\n",
    "        frames_.append(group_by_category_)\n",
    "\n",
    "    tmp_frame_ = frames_[0]\n",
    "    for f in frames_[1:]:\n",
    "        tmp_frame_ = pd.merge(tmp_frame_, f, on='category', how='outer')\n",
    "\n",
    "    tmp_frame_.columns = ['category', '2021', '2020', '2022', '2023']\n",
    "    output_frame = tmp_frame_[['category', '2020', '2021', '2022', '2023']]\n",
    "\n",
    "    for c in ['2020', '2021', '2022', '2023']:\n",
    "        output_frame[c] = round(output_frame[c] / 12)\n",
    "\n",
    "    return output_frame"
   ]
  },
  {
   "cell_type": "code",
   "execution_count": 5,
   "id": "a4f95a0bb797828b",
   "metadata": {
    "ExecuteTime": {
     "end_time": "2024-01-18T20:04:53.861342500Z",
     "start_time": "2024-01-18T20:04:53.833471400Z"
    },
    "collapsed": false,
    "jupyter": {
     "outputs_hidden": false
    }
   },
   "outputs": [],
   "source": [
    "data = pd.read_csv('data.csv')\n",
    "data.columns = ['year', 'title', 'category', 'currency', 'salary', 'salary_in_dollars', 'employee_residence',\n",
    "                'experience', 'employment_type', 'working_mode', 'company_location', 'company_size']"
   ]
  },
  {
   "cell_type": "code",
   "execution_count": 15,
   "id": "9bc8aad077ea463c",
   "metadata": {
    "ExecuteTime": {
     "end_time": "2024-01-18T20:04:53.869832500Z",
     "start_time": "2024-01-18T20:04:53.860814300Z"
    },
    "collapsed": false,
    "jupyter": {
     "outputs_hidden": false
    }
   },
   "outputs": [
    {
     "data": {
      "text/html": [
       "<div>\n",
       "<style scoped>\n",
       "    .dataframe tbody tr th:only-of-type {\n",
       "        vertical-align: middle;\n",
       "    }\n",
       "\n",
       "    .dataframe tbody tr th {\n",
       "        vertical-align: top;\n",
       "    }\n",
       "\n",
       "    .dataframe thead th {\n",
       "        text-align: right;\n",
       "    }\n",
       "</style>\n",
       "<table border=\"1\" class=\"dataframe\">\n",
       "  <thead>\n",
       "    <tr style=\"text-align: right;\">\n",
       "      <th></th>\n",
       "      <th>year</th>\n",
       "      <th>title</th>\n",
       "      <th>category</th>\n",
       "      <th>currency</th>\n",
       "      <th>salary</th>\n",
       "      <th>salary_in_dollars</th>\n",
       "      <th>employee_residence</th>\n",
       "      <th>experience</th>\n",
       "      <th>employment_type</th>\n",
       "      <th>working_mode</th>\n",
       "      <th>company_location</th>\n",
       "      <th>company_size</th>\n",
       "    </tr>\n",
       "  </thead>\n",
       "  <tbody>\n",
       "    <tr>\n",
       "      <th>0</th>\n",
       "      <td>2023</td>\n",
       "      <td>Data DevOps Engineer</td>\n",
       "      <td>Data Engineering</td>\n",
       "      <td>EUR</td>\n",
       "      <td>88000</td>\n",
       "      <td>95012</td>\n",
       "      <td>Germany</td>\n",
       "      <td>Mid-level</td>\n",
       "      <td>Full-time</td>\n",
       "      <td>Hybrid</td>\n",
       "      <td>Germany</td>\n",
       "      <td>L</td>\n",
       "    </tr>\n",
       "    <tr>\n",
       "      <th>1</th>\n",
       "      <td>2023</td>\n",
       "      <td>Data Architect</td>\n",
       "      <td>Data Architecture and Modeling</td>\n",
       "      <td>USD</td>\n",
       "      <td>186000</td>\n",
       "      <td>186000</td>\n",
       "      <td>United States</td>\n",
       "      <td>Senior</td>\n",
       "      <td>Full-time</td>\n",
       "      <td>In-person</td>\n",
       "      <td>United States</td>\n",
       "      <td>M</td>\n",
       "    </tr>\n",
       "    <tr>\n",
       "      <th>2</th>\n",
       "      <td>2023</td>\n",
       "      <td>Data Architect</td>\n",
       "      <td>Data Architecture and Modeling</td>\n",
       "      <td>USD</td>\n",
       "      <td>81800</td>\n",
       "      <td>81800</td>\n",
       "      <td>United States</td>\n",
       "      <td>Senior</td>\n",
       "      <td>Full-time</td>\n",
       "      <td>In-person</td>\n",
       "      <td>United States</td>\n",
       "      <td>M</td>\n",
       "    </tr>\n",
       "    <tr>\n",
       "      <th>3</th>\n",
       "      <td>2023</td>\n",
       "      <td>Data Scientist</td>\n",
       "      <td>Data Science and Research</td>\n",
       "      <td>USD</td>\n",
       "      <td>212000</td>\n",
       "      <td>212000</td>\n",
       "      <td>United States</td>\n",
       "      <td>Senior</td>\n",
       "      <td>Full-time</td>\n",
       "      <td>In-person</td>\n",
       "      <td>United States</td>\n",
       "      <td>M</td>\n",
       "    </tr>\n",
       "    <tr>\n",
       "      <th>4</th>\n",
       "      <td>2023</td>\n",
       "      <td>Data Scientist</td>\n",
       "      <td>Data Science and Research</td>\n",
       "      <td>USD</td>\n",
       "      <td>93300</td>\n",
       "      <td>93300</td>\n",
       "      <td>United States</td>\n",
       "      <td>Senior</td>\n",
       "      <td>Full-time</td>\n",
       "      <td>In-person</td>\n",
       "      <td>United States</td>\n",
       "      <td>M</td>\n",
       "    </tr>\n",
       "  </tbody>\n",
       "</table>\n",
       "</div>"
      ],
      "text/plain": [
       "   year                 title                        category currency  \\\n",
       "0  2023  Data DevOps Engineer                Data Engineering      EUR   \n",
       "1  2023        Data Architect  Data Architecture and Modeling      USD   \n",
       "2  2023        Data Architect  Data Architecture and Modeling      USD   \n",
       "3  2023        Data Scientist       Data Science and Research      USD   \n",
       "4  2023        Data Scientist       Data Science and Research      USD   \n",
       "\n",
       "   salary  salary_in_dollars employee_residence experience employment_type  \\\n",
       "0   88000              95012            Germany  Mid-level       Full-time   \n",
       "1  186000             186000      United States     Senior       Full-time   \n",
       "2   81800              81800      United States     Senior       Full-time   \n",
       "3  212000             212000      United States     Senior       Full-time   \n",
       "4   93300              93300      United States     Senior       Full-time   \n",
       "\n",
       "  working_mode company_location company_size  \n",
       "0       Hybrid          Germany            L  \n",
       "1    In-person    United States            M  \n",
       "2    In-person    United States            M  \n",
       "3    In-person    United States            M  \n",
       "4    In-person    United States            M  "
      ]
     },
     "execution_count": 15,
     "metadata": {},
     "output_type": "execute_result"
    }
   ],
   "source": [
    "data.head(5)"
   ]
  },
  {
   "cell_type": "code",
   "execution_count": 6,
   "id": "9b89bb2a651b0ad6",
   "metadata": {
    "ExecuteTime": {
     "end_time": "2024-01-18T20:05:41.242391500Z",
     "start_time": "2024-01-18T20:05:41.212572800Z"
    },
    "collapsed": false,
    "jupyter": {
     "outputs_hidden": false
    }
   },
   "outputs": [
    {
     "data": {
      "text/html": [
       "<div>\n",
       "<style scoped>\n",
       "    .dataframe tbody tr th:only-of-type {\n",
       "        vertical-align: middle;\n",
       "    }\n",
       "\n",
       "    .dataframe tbody tr th {\n",
       "        vertical-align: top;\n",
       "    }\n",
       "\n",
       "    .dataframe thead th {\n",
       "        text-align: right;\n",
       "    }\n",
       "</style>\n",
       "<table border=\"1\" class=\"dataframe\">\n",
       "  <thead>\n",
       "    <tr style=\"text-align: right;\">\n",
       "      <th>category</th>\n",
       "      <th>Data Analysis</th>\n",
       "      <th>Data Architecture and Modeling</th>\n",
       "      <th>Data Engineering</th>\n",
       "      <th>Data Management and Strategy</th>\n",
       "      <th>Data Science and Research</th>\n",
       "      <th>Leadership and Management</th>\n",
       "      <th>Machine Learning and AI</th>\n",
       "      <th>BI and Visualization</th>\n",
       "      <th>Cloud and Database</th>\n",
       "      <th>Data Quality and Operations</th>\n",
       "    </tr>\n",
       "  </thead>\n",
       "  <tbody>\n",
       "    <tr>\n",
       "      <th>2020</th>\n",
       "      <td>5668.0</td>\n",
       "      <td>NaN</td>\n",
       "      <td>7881.0</td>\n",
       "      <td>NaN</td>\n",
       "      <td>10795.0</td>\n",
       "      <td>NaN</td>\n",
       "      <td>9440.0</td>\n",
       "      <td>NaN</td>\n",
       "      <td>NaN</td>\n",
       "      <td>NaN</td>\n",
       "    </tr>\n",
       "    <tr>\n",
       "      <th>2021</th>\n",
       "      <td>7318.0</td>\n",
       "      <td>14162.0</td>\n",
       "      <td>8933.0</td>\n",
       "      <td>13750.0</td>\n",
       "      <td>8960.0</td>\n",
       "      <td>10991.0</td>\n",
       "      <td>8450.0</td>\n",
       "      <td>NaN</td>\n",
       "      <td>NaN</td>\n",
       "      <td>NaN</td>\n",
       "    </tr>\n",
       "    <tr>\n",
       "      <th>2022</th>\n",
       "      <td>8949.0</td>\n",
       "      <td>13841.0</td>\n",
       "      <td>11636.0</td>\n",
       "      <td>9502.0</td>\n",
       "      <td>11945.0</td>\n",
       "      <td>11408.0</td>\n",
       "      <td>12024.0</td>\n",
       "      <td>8406.0</td>\n",
       "      <td>14583.0</td>\n",
       "      <td>7064.0</td>\n",
       "    </tr>\n",
       "    <tr>\n",
       "      <th>2023</th>\n",
       "      <td>9154.0</td>\n",
       "      <td>12786.0</td>\n",
       "      <td>12473.0</td>\n",
       "      <td>8261.0</td>\n",
       "      <td>14173.0</td>\n",
       "      <td>12286.0</td>\n",
       "      <td>15606.0</td>\n",
       "      <td>11332.0</td>\n",
       "      <td>11806.0</td>\n",
       "      <td>8781.0</td>\n",
       "    </tr>\n",
       "  </tbody>\n",
       "</table>\n",
       "</div>"
      ],
      "text/plain": [
       "category  Data Analysis  Data Architecture and Modeling  Data Engineering  \\\n",
       "2020             5668.0                             NaN            7881.0   \n",
       "2021             7318.0                         14162.0            8933.0   \n",
       "2022             8949.0                         13841.0           11636.0   \n",
       "2023             9154.0                         12786.0           12473.0   \n",
       "\n",
       "category  Data Management and Strategy  Data Science and Research  \\\n",
       "2020                               NaN                    10795.0   \n",
       "2021                           13750.0                     8960.0   \n",
       "2022                            9502.0                    11945.0   \n",
       "2023                            8261.0                    14173.0   \n",
       "\n",
       "category  Leadership and Management  Machine Learning and AI  \\\n",
       "2020                            NaN                   9440.0   \n",
       "2021                        10991.0                   8450.0   \n",
       "2022                        11408.0                  12024.0   \n",
       "2023                        12286.0                  15606.0   \n",
       "\n",
       "category  BI and Visualization  Cloud and Database  \\\n",
       "2020                       NaN                 NaN   \n",
       "2021                       NaN                 NaN   \n",
       "2022                    8406.0             14583.0   \n",
       "2023                   11332.0             11806.0   \n",
       "\n",
       "category  Data Quality and Operations  \n",
       "2020                              NaN  \n",
       "2021                              NaN  \n",
       "2022                           7064.0  \n",
       "2023                           8781.0  "
      ]
     },
     "execution_count": 6,
     "metadata": {},
     "output_type": "execute_result"
    }
   ],
   "source": [
    "salary_data = group_by_category_year_by_year(data)\n",
    "salary_data.index = salary_data['category']\n",
    "salary_data = salary_data.drop(columns=['category'])\n",
    "salary_data = salary_data.T\n",
    "salary_data"
   ]
  },
  {
   "cell_type": "code",
   "execution_count": null,
   "id": "d9dd1319-f945-4849-b03f-9b4ece3335e4",
   "metadata": {},
   "outputs": [],
   "source": [
    "# TODO "
   ]
  },
  {
   "cell_type": "code",
   "execution_count": 12,
   "id": "ba7b95c7d9faa17d",
   "metadata": {
    "ExecuteTime": {
     "end_time": "2024-01-18T20:05:56.923155400Z",
     "start_time": "2024-01-18T20:05:56.063856300Z"
    },
    "collapsed": false,
    "jupyter": {
     "outputs_hidden": false
    }
   },
   "outputs": [
    {
     "data": {
      "application/vnd.plotly.v1+json": {
       "config": {
        "plotlyServerURL": "https://plot.ly"
       },
       "data": [
        {
         "mode": "lines+markers",
         "name": "Data Analysis",
         "type": "scatter",
         "x": [
          "2020",
          "2021",
          "2022",
          "2023"
         ],
         "y": [
          5668,
          7318,
          8949,
          9154
         ]
        },
        {
         "mode": "lines+markers",
         "name": "Data Architecture and Modeling",
         "type": "scatter",
         "x": [
          "2020",
          "2021",
          "2022",
          "2023"
         ],
         "y": [
          null,
          14162,
          13841,
          12786
         ]
        },
        {
         "mode": "lines+markers",
         "name": "Data Engineering",
         "type": "scatter",
         "x": [
          "2020",
          "2021",
          "2022",
          "2023"
         ],
         "y": [
          7881,
          8933,
          11636,
          12473
         ]
        },
        {
         "mode": "lines+markers",
         "name": "Data Management and Strategy",
         "type": "scatter",
         "x": [
          "2020",
          "2021",
          "2022",
          "2023"
         ],
         "y": [
          null,
          13750,
          9502,
          8261
         ]
        },
        {
         "mode": "lines+markers",
         "name": "Data Science and Research",
         "type": "scatter",
         "x": [
          "2020",
          "2021",
          "2022",
          "2023"
         ],
         "y": [
          10795,
          8960,
          11945,
          14173
         ]
        },
        {
         "mode": "lines+markers",
         "name": "Leadership and Management",
         "type": "scatter",
         "x": [
          "2020",
          "2021",
          "2022",
          "2023"
         ],
         "y": [
          null,
          10991,
          11408,
          12286
         ]
        },
        {
         "mode": "lines+markers",
         "name": "Machine Learning and AI",
         "type": "scatter",
         "x": [
          "2020",
          "2021",
          "2022",
          "2023"
         ],
         "y": [
          9440,
          8450,
          12024,
          15606
         ]
        },
        {
         "mode": "lines+markers",
         "name": "BI and Visualization",
         "type": "scatter",
         "x": [
          "2020",
          "2021",
          "2022",
          "2023"
         ],
         "y": [
          null,
          null,
          8406,
          11332
         ]
        },
        {
         "mode": "lines+markers",
         "name": "Cloud and Database",
         "type": "scatter",
         "x": [
          "2020",
          "2021",
          "2022",
          "2023"
         ],
         "y": [
          null,
          null,
          14583,
          11806
         ]
        },
        {
         "mode": "lines+markers",
         "name": "Data Quality and Operations",
         "type": "scatter",
         "x": [
          "2020",
          "2021",
          "2022",
          "2023"
         ],
         "y": [
          null,
          null,
          7064,
          8781
         ]
        }
       ],
       "layout": {
        "height": 600,
        "legend": {
         "title": {
          "text": "Legend"
         }
        },
        "template": {
         "data": {
          "bar": [
           {
            "error_x": {
             "color": "#2a3f5f"
            },
            "error_y": {
             "color": "#2a3f5f"
            },
            "marker": {
             "line": {
              "color": "#E5ECF6",
              "width": 0.5
             },
             "pattern": {
              "fillmode": "overlay",
              "size": 10,
              "solidity": 0.2
             }
            },
            "type": "bar"
           }
          ],
          "barpolar": [
           {
            "marker": {
             "line": {
              "color": "#E5ECF6",
              "width": 0.5
             },
             "pattern": {
              "fillmode": "overlay",
              "size": 10,
              "solidity": 0.2
             }
            },
            "type": "barpolar"
           }
          ],
          "carpet": [
           {
            "aaxis": {
             "endlinecolor": "#2a3f5f",
             "gridcolor": "white",
             "linecolor": "white",
             "minorgridcolor": "white",
             "startlinecolor": "#2a3f5f"
            },
            "baxis": {
             "endlinecolor": "#2a3f5f",
             "gridcolor": "white",
             "linecolor": "white",
             "minorgridcolor": "white",
             "startlinecolor": "#2a3f5f"
            },
            "type": "carpet"
           }
          ],
          "choropleth": [
           {
            "colorbar": {
             "outlinewidth": 0,
             "ticks": ""
            },
            "type": "choropleth"
           }
          ],
          "contour": [
           {
            "colorbar": {
             "outlinewidth": 0,
             "ticks": ""
            },
            "colorscale": [
             [
              0,
              "#0d0887"
             ],
             [
              0.1111111111111111,
              "#46039f"
             ],
             [
              0.2222222222222222,
              "#7201a8"
             ],
             [
              0.3333333333333333,
              "#9c179e"
             ],
             [
              0.4444444444444444,
              "#bd3786"
             ],
             [
              0.5555555555555556,
              "#d8576b"
             ],
             [
              0.6666666666666666,
              "#ed7953"
             ],
             [
              0.7777777777777778,
              "#fb9f3a"
             ],
             [
              0.8888888888888888,
              "#fdca26"
             ],
             [
              1,
              "#f0f921"
             ]
            ],
            "type": "contour"
           }
          ],
          "contourcarpet": [
           {
            "colorbar": {
             "outlinewidth": 0,
             "ticks": ""
            },
            "type": "contourcarpet"
           }
          ],
          "heatmap": [
           {
            "colorbar": {
             "outlinewidth": 0,
             "ticks": ""
            },
            "colorscale": [
             [
              0,
              "#0d0887"
             ],
             [
              0.1111111111111111,
              "#46039f"
             ],
             [
              0.2222222222222222,
              "#7201a8"
             ],
             [
              0.3333333333333333,
              "#9c179e"
             ],
             [
              0.4444444444444444,
              "#bd3786"
             ],
             [
              0.5555555555555556,
              "#d8576b"
             ],
             [
              0.6666666666666666,
              "#ed7953"
             ],
             [
              0.7777777777777778,
              "#fb9f3a"
             ],
             [
              0.8888888888888888,
              "#fdca26"
             ],
             [
              1,
              "#f0f921"
             ]
            ],
            "type": "heatmap"
           }
          ],
          "heatmapgl": [
           {
            "colorbar": {
             "outlinewidth": 0,
             "ticks": ""
            },
            "colorscale": [
             [
              0,
              "#0d0887"
             ],
             [
              0.1111111111111111,
              "#46039f"
             ],
             [
              0.2222222222222222,
              "#7201a8"
             ],
             [
              0.3333333333333333,
              "#9c179e"
             ],
             [
              0.4444444444444444,
              "#bd3786"
             ],
             [
              0.5555555555555556,
              "#d8576b"
             ],
             [
              0.6666666666666666,
              "#ed7953"
             ],
             [
              0.7777777777777778,
              "#fb9f3a"
             ],
             [
              0.8888888888888888,
              "#fdca26"
             ],
             [
              1,
              "#f0f921"
             ]
            ],
            "type": "heatmapgl"
           }
          ],
          "histogram": [
           {
            "marker": {
             "pattern": {
              "fillmode": "overlay",
              "size": 10,
              "solidity": 0.2
             }
            },
            "type": "histogram"
           }
          ],
          "histogram2d": [
           {
            "colorbar": {
             "outlinewidth": 0,
             "ticks": ""
            },
            "colorscale": [
             [
              0,
              "#0d0887"
             ],
             [
              0.1111111111111111,
              "#46039f"
             ],
             [
              0.2222222222222222,
              "#7201a8"
             ],
             [
              0.3333333333333333,
              "#9c179e"
             ],
             [
              0.4444444444444444,
              "#bd3786"
             ],
             [
              0.5555555555555556,
              "#d8576b"
             ],
             [
              0.6666666666666666,
              "#ed7953"
             ],
             [
              0.7777777777777778,
              "#fb9f3a"
             ],
             [
              0.8888888888888888,
              "#fdca26"
             ],
             [
              1,
              "#f0f921"
             ]
            ],
            "type": "histogram2d"
           }
          ],
          "histogram2dcontour": [
           {
            "colorbar": {
             "outlinewidth": 0,
             "ticks": ""
            },
            "colorscale": [
             [
              0,
              "#0d0887"
             ],
             [
              0.1111111111111111,
              "#46039f"
             ],
             [
              0.2222222222222222,
              "#7201a8"
             ],
             [
              0.3333333333333333,
              "#9c179e"
             ],
             [
              0.4444444444444444,
              "#bd3786"
             ],
             [
              0.5555555555555556,
              "#d8576b"
             ],
             [
              0.6666666666666666,
              "#ed7953"
             ],
             [
              0.7777777777777778,
              "#fb9f3a"
             ],
             [
              0.8888888888888888,
              "#fdca26"
             ],
             [
              1,
              "#f0f921"
             ]
            ],
            "type": "histogram2dcontour"
           }
          ],
          "mesh3d": [
           {
            "colorbar": {
             "outlinewidth": 0,
             "ticks": ""
            },
            "type": "mesh3d"
           }
          ],
          "parcoords": [
           {
            "line": {
             "colorbar": {
              "outlinewidth": 0,
              "ticks": ""
             }
            },
            "type": "parcoords"
           }
          ],
          "pie": [
           {
            "automargin": true,
            "type": "pie"
           }
          ],
          "scatter": [
           {
            "fillpattern": {
             "fillmode": "overlay",
             "size": 10,
             "solidity": 0.2
            },
            "type": "scatter"
           }
          ],
          "scatter3d": [
           {
            "line": {
             "colorbar": {
              "outlinewidth": 0,
              "ticks": ""
             }
            },
            "marker": {
             "colorbar": {
              "outlinewidth": 0,
              "ticks": ""
             }
            },
            "type": "scatter3d"
           }
          ],
          "scattercarpet": [
           {
            "marker": {
             "colorbar": {
              "outlinewidth": 0,
              "ticks": ""
             }
            },
            "type": "scattercarpet"
           }
          ],
          "scattergeo": [
           {
            "marker": {
             "colorbar": {
              "outlinewidth": 0,
              "ticks": ""
             }
            },
            "type": "scattergeo"
           }
          ],
          "scattergl": [
           {
            "marker": {
             "colorbar": {
              "outlinewidth": 0,
              "ticks": ""
             }
            },
            "type": "scattergl"
           }
          ],
          "scattermapbox": [
           {
            "marker": {
             "colorbar": {
              "outlinewidth": 0,
              "ticks": ""
             }
            },
            "type": "scattermapbox"
           }
          ],
          "scatterpolar": [
           {
            "marker": {
             "colorbar": {
              "outlinewidth": 0,
              "ticks": ""
             }
            },
            "type": "scatterpolar"
           }
          ],
          "scatterpolargl": [
           {
            "marker": {
             "colorbar": {
              "outlinewidth": 0,
              "ticks": ""
             }
            },
            "type": "scatterpolargl"
           }
          ],
          "scatterternary": [
           {
            "marker": {
             "colorbar": {
              "outlinewidth": 0,
              "ticks": ""
             }
            },
            "type": "scatterternary"
           }
          ],
          "surface": [
           {
            "colorbar": {
             "outlinewidth": 0,
             "ticks": ""
            },
            "colorscale": [
             [
              0,
              "#0d0887"
             ],
             [
              0.1111111111111111,
              "#46039f"
             ],
             [
              0.2222222222222222,
              "#7201a8"
             ],
             [
              0.3333333333333333,
              "#9c179e"
             ],
             [
              0.4444444444444444,
              "#bd3786"
             ],
             [
              0.5555555555555556,
              "#d8576b"
             ],
             [
              0.6666666666666666,
              "#ed7953"
             ],
             [
              0.7777777777777778,
              "#fb9f3a"
             ],
             [
              0.8888888888888888,
              "#fdca26"
             ],
             [
              1,
              "#f0f921"
             ]
            ],
            "type": "surface"
           }
          ],
          "table": [
           {
            "cells": {
             "fill": {
              "color": "#EBF0F8"
             },
             "line": {
              "color": "white"
             }
            },
            "header": {
             "fill": {
              "color": "#C8D4E3"
             },
             "line": {
              "color": "white"
             }
            },
            "type": "table"
           }
          ]
         },
         "layout": {
          "annotationdefaults": {
           "arrowcolor": "#2a3f5f",
           "arrowhead": 0,
           "arrowwidth": 1
          },
          "autotypenumbers": "strict",
          "coloraxis": {
           "colorbar": {
            "outlinewidth": 0,
            "ticks": ""
           }
          },
          "colorscale": {
           "diverging": [
            [
             0,
             "#8e0152"
            ],
            [
             0.1,
             "#c51b7d"
            ],
            [
             0.2,
             "#de77ae"
            ],
            [
             0.3,
             "#f1b6da"
            ],
            [
             0.4,
             "#fde0ef"
            ],
            [
             0.5,
             "#f7f7f7"
            ],
            [
             0.6,
             "#e6f5d0"
            ],
            [
             0.7,
             "#b8e186"
            ],
            [
             0.8,
             "#7fbc41"
            ],
            [
             0.9,
             "#4d9221"
            ],
            [
             1,
             "#276419"
            ]
           ],
           "sequential": [
            [
             0,
             "#0d0887"
            ],
            [
             0.1111111111111111,
             "#46039f"
            ],
            [
             0.2222222222222222,
             "#7201a8"
            ],
            [
             0.3333333333333333,
             "#9c179e"
            ],
            [
             0.4444444444444444,
             "#bd3786"
            ],
            [
             0.5555555555555556,
             "#d8576b"
            ],
            [
             0.6666666666666666,
             "#ed7953"
            ],
            [
             0.7777777777777778,
             "#fb9f3a"
            ],
            [
             0.8888888888888888,
             "#fdca26"
            ],
            [
             1,
             "#f0f921"
            ]
           ],
           "sequentialminus": [
            [
             0,
             "#0d0887"
            ],
            [
             0.1111111111111111,
             "#46039f"
            ],
            [
             0.2222222222222222,
             "#7201a8"
            ],
            [
             0.3333333333333333,
             "#9c179e"
            ],
            [
             0.4444444444444444,
             "#bd3786"
            ],
            [
             0.5555555555555556,
             "#d8576b"
            ],
            [
             0.6666666666666666,
             "#ed7953"
            ],
            [
             0.7777777777777778,
             "#fb9f3a"
            ],
            [
             0.8888888888888888,
             "#fdca26"
            ],
            [
             1,
             "#f0f921"
            ]
           ]
          },
          "colorway": [
           "#636efa",
           "#EF553B",
           "#00cc96",
           "#ab63fa",
           "#FFA15A",
           "#19d3f3",
           "#FF6692",
           "#B6E880",
           "#FF97FF",
           "#FECB52"
          ],
          "font": {
           "color": "#2a3f5f"
          },
          "geo": {
           "bgcolor": "white",
           "lakecolor": "white",
           "landcolor": "#E5ECF6",
           "showlakes": true,
           "showland": true,
           "subunitcolor": "white"
          },
          "hoverlabel": {
           "align": "left"
          },
          "hovermode": "closest",
          "mapbox": {
           "style": "light"
          },
          "paper_bgcolor": "white",
          "plot_bgcolor": "#E5ECF6",
          "polar": {
           "angularaxis": {
            "gridcolor": "white",
            "linecolor": "white",
            "ticks": ""
           },
           "bgcolor": "#E5ECF6",
           "radialaxis": {
            "gridcolor": "white",
            "linecolor": "white",
            "ticks": ""
           }
          },
          "scene": {
           "xaxis": {
            "backgroundcolor": "#E5ECF6",
            "gridcolor": "white",
            "gridwidth": 2,
            "linecolor": "white",
            "showbackground": true,
            "ticks": "",
            "zerolinecolor": "white"
           },
           "yaxis": {
            "backgroundcolor": "#E5ECF6",
            "gridcolor": "white",
            "gridwidth": 2,
            "linecolor": "white",
            "showbackground": true,
            "ticks": "",
            "zerolinecolor": "white"
           },
           "zaxis": {
            "backgroundcolor": "#E5ECF6",
            "gridcolor": "white",
            "gridwidth": 2,
            "linecolor": "white",
            "showbackground": true,
            "ticks": "",
            "zerolinecolor": "white"
           }
          },
          "shapedefaults": {
           "line": {
            "color": "#2a3f5f"
           }
          },
          "ternary": {
           "aaxis": {
            "gridcolor": "white",
            "linecolor": "white",
            "ticks": ""
           },
           "baxis": {
            "gridcolor": "white",
            "linecolor": "white",
            "ticks": ""
           },
           "bgcolor": "#E5ECF6",
           "caxis": {
            "gridcolor": "white",
            "linecolor": "white",
            "ticks": ""
           }
          },
          "title": {
           "x": 0.05
          },
          "xaxis": {
           "automargin": true,
           "gridcolor": "white",
           "linecolor": "white",
           "ticks": "",
           "title": {
            "standoff": 15
           },
           "zerolinecolor": "white",
           "zerolinewidth": 2
          },
          "yaxis": {
           "automargin": true,
           "gridcolor": "white",
           "linecolor": "white",
           "ticks": "",
           "title": {
            "standoff": 15
           },
           "zerolinecolor": "white",
           "zerolinewidth": 2
          }
         }
        },
        "title": {
         "text": "Average Monthly Salaries grouped by categories over time"
        },
        "width": 1100,
        "xaxis": {
         "autorange": true,
         "range": [
          -0.18492550394390891,
          3.184925503943909
         ],
         "title": {
          "text": "Year"
         },
         "type": "category"
        },
        "yaxis": {
         "autorange": true,
         "range": [
          5004.1255060728745,
          16269.874493927126
         ],
         "title": {
          "text": "Value"
         },
         "type": "linear"
        }
       }
      },
      "image/png": "[encoded data removed]",
      "text/html": [
       "<div>                            <div id=\"b788a1c4-8b9c-4725-bbe2-e98af27c0aec\" class=\"plotly-graph-div\" style=\"height:600px; width:1100px;\"></div>            <script type=\"text/javascript\">                require([\"plotly\"], function(Plotly) {                    window.PLOTLYENV=window.PLOTLYENV || {};                                    if (document.getElementById(\"b788a1c4-8b9c-4725-bbe2-e98af27c0aec\")) {                    Plotly.newPlot(                        \"b788a1c4-8b9c-4725-bbe2-e98af27c0aec\",                        [{\"mode\":\"lines+markers\",\"name\":\"Data Analysis\",\"x\":[\"2020\",\"2021\",\"2022\",\"2023\"],\"y\":[5668.0,7318.0,8949.0,9154.0],\"type\":\"scatter\"},{\"mode\":\"lines+markers\",\"name\":\"Data Architecture and Modeling\",\"x\":[\"2020\",\"2021\",\"2022\",\"2023\"],\"y\":[null,14162.0,13841.0,12786.0],\"type\":\"scatter\"},{\"mode\":\"lines+markers\",\"name\":\"Data Engineering\",\"x\":[\"2020\",\"2021\",\"2022\",\"2023\"],\"y\":[7881.0,8933.0,11636.0,12473.0],\"type\":\"scatter\"},{\"mode\":\"lines+markers\",\"name\":\"Data Management and Strategy\",\"x\":[\"2020\",\"2021\",\"2022\",\"2023\"],\"y\":[null,13750.0,9502.0,8261.0],\"type\":\"scatter\"},{\"mode\":\"lines+markers\",\"name\":\"Data Science and Research\",\"x\":[\"2020\",\"2021\",\"2022\",\"2023\"],\"y\":[10795.0,8960.0,11945.0,14173.0],\"type\":\"scatter\"},{\"mode\":\"lines+markers\",\"name\":\"Leadership and Management\",\"x\":[\"2020\",\"2021\",\"2022\",\"2023\"],\"y\":[null,10991.0,11408.0,12286.0],\"type\":\"scatter\"},{\"mode\":\"lines+markers\",\"name\":\"Machine Learning and AI\",\"x\":[\"2020\",\"2021\",\"2022\",\"2023\"],\"y\":[9440.0,8450.0,12024.0,15606.0],\"type\":\"scatter\"},{\"mode\":\"lines+markers\",\"name\":\"BI and Visualization\",\"x\":[\"2020\",\"2021\",\"2022\",\"2023\"],\"y\":[null,null,8406.0,11332.0],\"type\":\"scatter\"},{\"mode\":\"lines+markers\",\"name\":\"Cloud and Database\",\"x\":[\"2020\",\"2021\",\"2022\",\"2023\"],\"y\":[null,null,14583.0,11806.0],\"type\":\"scatter\"},{\"mode\":\"lines+markers\",\"name\":\"Data Quality and Operations\",\"x\":[\"2020\",\"2021\",\"2022\",\"2023\"],\"y\":[null,null,7064.0,8781.0],\"type\":\"scatter\"}],                        {\"template\":{\"data\":{\"histogram2dcontour\":[{\"type\":\"histogram2dcontour\",\"colorbar\":{\"outlinewidth\":0,\"ticks\":\"\"},\"colorscale\":[[0.0,\"#0d0887\"],[0.1111111111111111,\"#46039f\"],[0.2222222222222222,\"#7201a8\"],[0.3333333333333333,\"#9c179e\"],[0.4444444444444444,\"#bd3786\"],[0.5555555555555556,\"#d8576b\"],[0.6666666666666666,\"#ed7953\"],[0.7777777777777778,\"#fb9f3a\"],[0.8888888888888888,\"#fdca26\"],[1.0,\"#f0f921\"]]}],\"choropleth\":[{\"type\":\"choropleth\",\"colorbar\":{\"outlinewidth\":0,\"ticks\":\"\"}}],\"histogram2d\":[{\"type\":\"histogram2d\",\"colorbar\":{\"outlinewidth\":0,\"ticks\":\"\"},\"colorscale\":[[0.0,\"#0d0887\"],[0.1111111111111111,\"#46039f\"],[0.2222222222222222,\"#7201a8\"],[0.3333333333333333,\"#9c179e\"],[0.4444444444444444,\"#bd3786\"],[0.5555555555555556,\"#d8576b\"],[0.6666666666666666,\"#ed7953\"],[0.7777777777777778,\"#fb9f3a\"],[0.8888888888888888,\"#fdca26\"],[1.0,\"#f0f921\"]]}],\"heatmap\":[{\"type\":\"heatmap\",\"colorbar\":{\"outlinewidth\":0,\"ticks\":\"\"},\"colorscale\":[[0.0,\"#0d0887\"],[0.1111111111111111,\"#46039f\"],[0.2222222222222222,\"#7201a8\"],[0.3333333333333333,\"#9c179e\"],[0.4444444444444444,\"#bd3786\"],[0.5555555555555556,\"#d8576b\"],[0.6666666666666666,\"#ed7953\"],[0.7777777777777778,\"#fb9f3a\"],[0.8888888888888888,\"#fdca26\"],[1.0,\"#f0f921\"]]}],\"heatmapgl\":[{\"type\":\"heatmapgl\",\"colorbar\":{\"outlinewidth\":0,\"ticks\":\"\"},\"colorscale\":[[0.0,\"#0d0887\"],[0.1111111111111111,\"#46039f\"],[0.2222222222222222,\"#7201a8\"],[0.3333333333333333,\"#9c179e\"],[0.4444444444444444,\"#bd3786\"],[0.5555555555555556,\"#d8576b\"],[0.6666666666666666,\"#ed7953\"],[0.7777777777777778,\"#fb9f3a\"],[0.8888888888888888,\"#fdca26\"],[1.0,\"#f0f921\"]]}],\"contourcarpet\":[{\"type\":\"contourcarpet\",\"colorbar\":{\"outlinewidth\":0,\"ticks\":\"\"}}],\"contour\":[{\"type\":\"contour\",\"colorbar\":{\"outlinewidth\":0,\"ticks\":\"\"},\"colorscale\":[[0.0,\"#0d0887\"],[0.1111111111111111,\"#46039f\"],[0.2222222222222222,\"#7201a8\"],[0.3333333333333333,\"#9c179e\"],[0.4444444444444444,\"#bd3786\"],[0.5555555555555556,\"#d8576b\"],[0.6666666666666666,\"#ed7953\"],[0.7777777777777778,\"#fb9f3a\"],[0.8888888888888888,\"#fdca26\"],[1.0,\"#f0f921\"]]}],\"surface\":[{\"type\":\"surface\",\"colorbar\":{\"outlinewidth\":0,\"ticks\":\"\"},\"colorscale\":[[0.0,\"#0d0887\"],[0.1111111111111111,\"#46039f\"],[0.2222222222222222,\"#7201a8\"],[0.3333333333333333,\"#9c179e\"],[0.4444444444444444,\"#bd3786\"],[0.5555555555555556,\"#d8576b\"],[0.6666666666666666,\"#ed7953\"],[0.7777777777777778,\"#fb9f3a\"],[0.8888888888888888,\"#fdca26\"],[1.0,\"#f0f921\"]]}],\"mesh3d\":[{\"type\":\"mesh3d\",\"colorbar\":{\"outlinewidth\":0,\"ticks\":\"\"}}],\"scatter\":[{\"fillpattern\":{\"fillmode\":\"overlay\",\"size\":10,\"solidity\":0.2},\"type\":\"scatter\"}],\"parcoords\":[{\"type\":\"parcoords\",\"line\":{\"colorbar\":{\"outlinewidth\":0,\"ticks\":\"\"}}}],\"scatterpolargl\":[{\"type\":\"scatterpolargl\",\"marker\":{\"colorbar\":{\"outlinewidth\":0,\"ticks\":\"\"}}}],\"bar\":[{\"error_x\":{\"color\":\"#2a3f5f\"},\"error_y\":{\"color\":\"#2a3f5f\"},\"marker\":{\"line\":{\"color\":\"#E5ECF6\",\"width\":0.5},\"pattern\":{\"fillmode\":\"overlay\",\"size\":10,\"solidity\":0.2}},\"type\":\"bar\"}],\"scattergeo\":[{\"type\":\"scattergeo\",\"marker\":{\"colorbar\":{\"outlinewidth\":0,\"ticks\":\"\"}}}],\"scatterpolar\":[{\"type\":\"scatterpolar\",\"marker\":{\"colorbar\":{\"outlinewidth\":0,\"ticks\":\"\"}}}],\"histogram\":[{\"marker\":{\"pattern\":{\"fillmode\":\"overlay\",\"size\":10,\"solidity\":0.2}},\"type\":\"histogram\"}],\"scattergl\":[{\"type\":\"scattergl\",\"marker\":{\"colorbar\":{\"outlinewidth\":0,\"ticks\":\"\"}}}],\"scatter3d\":[{\"type\":\"scatter3d\",\"line\":{\"colorbar\":{\"outlinewidth\":0,\"ticks\":\"\"}},\"marker\":{\"colorbar\":{\"outlinewidth\":0,\"ticks\":\"\"}}}],\"scattermapbox\":[{\"type\":\"scattermapbox\",\"marker\":{\"colorbar\":{\"outlinewidth\":0,\"ticks\":\"\"}}}],\"scatterternary\":[{\"type\":\"scatterternary\",\"marker\":{\"colorbar\":{\"outlinewidth\":0,\"ticks\":\"\"}}}],\"scattercarpet\":[{\"type\":\"scattercarpet\",\"marker\":{\"colorbar\":{\"outlinewidth\":0,\"ticks\":\"\"}}}],\"carpet\":[{\"aaxis\":{\"endlinecolor\":\"#2a3f5f\",\"gridcolor\":\"white\",\"linecolor\":\"white\",\"minorgridcolor\":\"white\",\"startlinecolor\":\"#2a3f5f\"},\"baxis\":{\"endlinecolor\":\"#2a3f5f\",\"gridcolor\":\"white\",\"linecolor\":\"white\",\"minorgridcolor\":\"white\",\"startlinecolor\":\"#2a3f5f\"},\"type\":\"carpet\"}],\"table\":[{\"cells\":{\"fill\":{\"color\":\"#EBF0F8\"},\"line\":{\"color\":\"white\"}},\"header\":{\"fill\":{\"color\":\"#C8D4E3\"},\"line\":{\"color\":\"white\"}},\"type\":\"table\"}],\"barpolar\":[{\"marker\":{\"line\":{\"color\":\"#E5ECF6\",\"width\":0.5},\"pattern\":{\"fillmode\":\"overlay\",\"size\":10,\"solidity\":0.2}},\"type\":\"barpolar\"}],\"pie\":[{\"automargin\":true,\"type\":\"pie\"}]},\"layout\":{\"autotypenumbers\":\"strict\",\"colorway\":[\"#636efa\",\"#EF553B\",\"#00cc96\",\"#ab63fa\",\"#FFA15A\",\"#19d3f3\",\"#FF6692\",\"#B6E880\",\"#FF97FF\",\"#FECB52\"],\"font\":{\"color\":\"#2a3f5f\"},\"hovermode\":\"closest\",\"hoverlabel\":{\"align\":\"left\"},\"paper_bgcolor\":\"white\",\"plot_bgcolor\":\"#E5ECF6\",\"polar\":{\"bgcolor\":\"#E5ECF6\",\"angularaxis\":{\"gridcolor\":\"white\",\"linecolor\":\"white\",\"ticks\":\"\"},\"radialaxis\":{\"gridcolor\":\"white\",\"linecolor\":\"white\",\"ticks\":\"\"}},\"ternary\":{\"bgcolor\":\"#E5ECF6\",\"aaxis\":{\"gridcolor\":\"white\",\"linecolor\":\"white\",\"ticks\":\"\"},\"baxis\":{\"gridcolor\":\"white\",\"linecolor\":\"white\",\"ticks\":\"\"},\"caxis\":{\"gridcolor\":\"white\",\"linecolor\":\"white\",\"ticks\":\"\"}},\"coloraxis\":{\"colorbar\":{\"outlinewidth\":0,\"ticks\":\"\"}},\"colorscale\":{\"sequential\":[[0.0,\"#0d0887\"],[0.1111111111111111,\"#46039f\"],[0.2222222222222222,\"#7201a8\"],[0.3333333333333333,\"#9c179e\"],[0.4444444444444444,\"#bd3786\"],[0.5555555555555556,\"#d8576b\"],[0.6666666666666666,\"#ed7953\"],[0.7777777777777778,\"#fb9f3a\"],[0.8888888888888888,\"#fdca26\"],[1.0,\"#f0f921\"]],\"sequentialminus\":[[0.0,\"#0d0887\"],[0.1111111111111111,\"#46039f\"],[0.2222222222222222,\"#7201a8\"],[0.3333333333333333,\"#9c179e\"],[0.4444444444444444,\"#bd3786\"],[0.5555555555555556,\"#d8576b\"],[0.6666666666666666,\"#ed7953\"],[0.7777777777777778,\"#fb9f3a\"],[0.8888888888888888,\"#fdca26\"],[1.0,\"#f0f921\"]],\"diverging\":[[0,\"#8e0152\"],[0.1,\"#c51b7d\"],[0.2,\"#de77ae\"],[0.3,\"#f1b6da\"],[0.4,\"#fde0ef\"],[0.5,\"#f7f7f7\"],[0.6,\"#e6f5d0\"],[0.7,\"#b8e186\"],[0.8,\"#7fbc41\"],[0.9,\"#4d9221\"],[1,\"#276419\"]]},\"xaxis\":{\"gridcolor\":\"white\",\"linecolor\":\"white\",\"ticks\":\"\",\"title\":{\"standoff\":15},\"zerolinecolor\":\"white\",\"automargin\":true,\"zerolinewidth\":2},\"yaxis\":{\"gridcolor\":\"white\",\"linecolor\":\"white\",\"ticks\":\"\",\"title\":{\"standoff\":15},\"zerolinecolor\":\"white\",\"automargin\":true,\"zerolinewidth\":2},\"scene\":{\"xaxis\":{\"backgroundcolor\":\"#E5ECF6\",\"gridcolor\":\"white\",\"linecolor\":\"white\",\"showbackground\":true,\"ticks\":\"\",\"zerolinecolor\":\"white\",\"gridwidth\":2},\"yaxis\":{\"backgroundcolor\":\"#E5ECF6\",\"gridcolor\":\"white\",\"linecolor\":\"white\",\"showbackground\":true,\"ticks\":\"\",\"zerolinecolor\":\"white\",\"gridwidth\":2},\"zaxis\":{\"backgroundcolor\":\"#E5ECF6\",\"gridcolor\":\"white\",\"linecolor\":\"white\",\"showbackground\":true,\"ticks\":\"\",\"zerolinecolor\":\"white\",\"gridwidth\":2}},\"shapedefaults\":{\"line\":{\"color\":\"#2a3f5f\"}},\"annotationdefaults\":{\"arrowcolor\":\"#2a3f5f\",\"arrowhead\":0,\"arrowwidth\":1},\"geo\":{\"bgcolor\":\"white\",\"landcolor\":\"#E5ECF6\",\"subunitcolor\":\"white\",\"showland\":true,\"showlakes\":true,\"lakecolor\":\"white\"},\"title\":{\"x\":0.05},\"mapbox\":{\"style\":\"light\"}}},\"title\":{\"text\":\"Average Monthly Salaries grouped by categories over time\"},\"xaxis\":{\"title\":{\"text\":\"Year\"}},\"yaxis\":{\"title\":{\"text\":\"Value\"}},\"legend\":{\"title\":{\"text\":\"Legend\"}},\"width\":1100,\"height\":600},                        {\"responsive\": true}                    ).then(function(){\n",
       "                            \n",
       "var gd = document.getElementById('b788a1c4-8b9c-4725-bbe2-e98af27c0aec');\n",
       "var x = new MutationObserver(function (mutations, observer) {{\n",
       "        var display = window.getComputedStyle(gd).display;\n",
       "        if (!display || display === 'none') {{\n",
       "            console.log([gd, 'removed!']);\n",
       "            Plotly.purge(gd);\n",
       "            observer.disconnect();\n",
       "        }}\n",
       "}});\n",
       "\n",
       "// Listen for the removal of the full notebook cells\n",
       "var notebookContainer = gd.closest('#notebook-container');\n",
       "if (notebookContainer) {{\n",
       "    x.observe(notebookContainer, {childList: true});\n",
       "}}\n",
       "\n",
       "// Listen for the clearing of the current output cell\n",
       "var outputEl = gd.closest('.output');\n",
       "if (outputEl) {{\n",
       "    x.observe(outputEl, {childList: true});\n",
       "}}\n",
       "\n",
       "                        })                };                });            </script>        </div>"
      ]
     },
     "metadata": {},
     "output_type": "display_data"
    }
   ],
   "source": [
    "fig = go.Figure()\n",
    "\n",
    "# Plot each series with a specified color\n",
    "for name in salary_data.columns:\n",
    "    fig.add_trace(go.Scatter(x=salary_data.index, y=salary_data[name], mode='lines+markers', name=name))\n",
    "\n",
    "# Update layout\n",
    "fig.update_layout(title=\"Average Monthly Salaries grouped by categories over time\",\n",
    "                  xaxis_title=\"Year\",\n",
    "                  yaxis_title=\"Value\",\n",
    "                  legend=dict(title=\"Legend\"),\n",
    "                  width=1100,\n",
    "                  height=600)\n",
    "\n",
    "# Show the plot\n",
    "fig.show()"
   ]
  },
  {
   "cell_type": "code",
   "execution_count": 14,
   "id": "444ddacd-f6cd-478b-842b-0d0ed5aad4c1",
   "metadata": {},
   "outputs": [],
   "source": [
    "fig.write_html(\"avg_monthly_salaries.html\")"
   ]
  },
  {
   "cell_type": "code",
   "execution_count": 11,
   "id": "6336ce4bf9471858",
   "metadata": {
    "ExecuteTime": {
     "end_time": "2024-01-18T20:05:06.785342Z",
     "start_time": "2024-01-18T20:05:06.772625600Z"
    },
    "collapsed": false,
    "jupyter": {
     "outputs_hidden": false
    }
   },
   "outputs": [
    {
     "data": {
      "text/html": [
       "<div>\n",
       "<style scoped>\n",
       "    .dataframe tbody tr th:only-of-type {\n",
       "        vertical-align: middle;\n",
       "    }\n",
       "\n",
       "    .dataframe tbody tr th {\n",
       "        vertical-align: top;\n",
       "    }\n",
       "\n",
       "    .dataframe thead th {\n",
       "        text-align: right;\n",
       "    }\n",
       "</style>\n",
       "<table border=\"1\" class=\"dataframe\">\n",
       "  <thead>\n",
       "    <tr style=\"text-align: right;\">\n",
       "      <th>category</th>\n",
       "      <th>Data Analysis</th>\n",
       "      <th>Data Architecture and Modeling</th>\n",
       "      <th>Data Engineering</th>\n",
       "      <th>Data Management and Strategy</th>\n",
       "      <th>Data Science and Research</th>\n",
       "      <th>Leadership and Management</th>\n",
       "      <th>Machine Learning and AI</th>\n",
       "      <th>BI and Visualization</th>\n",
       "      <th>Cloud and Database</th>\n",
       "      <th>Data Quality and Operations</th>\n",
       "    </tr>\n",
       "  </thead>\n",
       "  <tbody>\n",
       "    <tr>\n",
       "      <th>2020</th>\n",
       "      <td>5668.0</td>\n",
       "      <td>NaN</td>\n",
       "      <td>7881.0</td>\n",
       "      <td>NaN</td>\n",
       "      <td>10795.0</td>\n",
       "      <td>NaN</td>\n",
       "      <td>9440.0</td>\n",
       "      <td>NaN</td>\n",
       "      <td>NaN</td>\n",
       "      <td>NaN</td>\n",
       "    </tr>\n",
       "    <tr>\n",
       "      <th>2021</th>\n",
       "      <td>7318.0</td>\n",
       "      <td>14162.0</td>\n",
       "      <td>8933.0</td>\n",
       "      <td>13750.0</td>\n",
       "      <td>8960.0</td>\n",
       "      <td>10991.0</td>\n",
       "      <td>8450.0</td>\n",
       "      <td>NaN</td>\n",
       "      <td>NaN</td>\n",
       "      <td>NaN</td>\n",
       "    </tr>\n",
       "    <tr>\n",
       "      <th>2022</th>\n",
       "      <td>8949.0</td>\n",
       "      <td>13841.0</td>\n",
       "      <td>11636.0</td>\n",
       "      <td>9502.0</td>\n",
       "      <td>11945.0</td>\n",
       "      <td>11408.0</td>\n",
       "      <td>12024.0</td>\n",
       "      <td>8406.0</td>\n",
       "      <td>14583.0</td>\n",
       "      <td>7064.0</td>\n",
       "    </tr>\n",
       "    <tr>\n",
       "      <th>2023</th>\n",
       "      <td>9154.0</td>\n",
       "      <td>12786.0</td>\n",
       "      <td>12473.0</td>\n",
       "      <td>8261.0</td>\n",
       "      <td>14173.0</td>\n",
       "      <td>12286.0</td>\n",
       "      <td>15606.0</td>\n",
       "      <td>11332.0</td>\n",
       "      <td>11806.0</td>\n",
       "      <td>8781.0</td>\n",
       "    </tr>\n",
       "  </tbody>\n",
       "</table>\n",
       "</div>"
      ],
      "text/plain": [
       "category  Data Analysis  Data Architecture and Modeling  Data Engineering  \\\n",
       "2020             5668.0                             NaN            7881.0   \n",
       "2021             7318.0                         14162.0            8933.0   \n",
       "2022             8949.0                         13841.0           11636.0   \n",
       "2023             9154.0                         12786.0           12473.0   \n",
       "\n",
       "category  Data Management and Strategy  Data Science and Research  \\\n",
       "2020                               NaN                    10795.0   \n",
       "2021                           13750.0                     8960.0   \n",
       "2022                            9502.0                    11945.0   \n",
       "2023                            8261.0                    14173.0   \n",
       "\n",
       "category  Leadership and Management  Machine Learning and AI  \\\n",
       "2020                            NaN                   9440.0   \n",
       "2021                        10991.0                   8450.0   \n",
       "2022                        11408.0                  12024.0   \n",
       "2023                        12286.0                  15606.0   \n",
       "\n",
       "category  BI and Visualization  Cloud and Database  \\\n",
       "2020                       NaN                 NaN   \n",
       "2021                       NaN                 NaN   \n",
       "2022                    8406.0             14583.0   \n",
       "2023                   11332.0             11806.0   \n",
       "\n",
       "category  Data Quality and Operations  \n",
       "2020                              NaN  \n",
       "2021                              NaN  \n",
       "2022                           7064.0  \n",
       "2023                           8781.0  "
      ]
     },
     "execution_count": 11,
     "metadata": {},
     "output_type": "execute_result"
    }
   ],
   "source": [
    "salary_data"
   ]
  },
  {
   "cell_type": "code",
   "execution_count": null,
   "id": "537e2416522c17c8",
   "metadata": {
    "ExecuteTime": {
     "start_time": "2024-01-18T20:04:54.566240300Z"
    },
    "collapsed": false,
    "jupyter": {
     "outputs_hidden": false
    }
   },
   "outputs": [],
   "source": [
    "salary_data.index"
   ]
  },
  {
   "cell_type": "code",
   "execution_count": null,
   "id": "99919de6a73578d0",
   "metadata": {
    "ExecuteTime": {
     "start_time": "2024-01-18T20:04:54.570244700Z"
    },
    "collapsed": false,
    "jupyter": {
     "outputs_hidden": false
    }
   },
   "outputs": [],
   "source": [
    "# # Load world map data\n",
    "# world = gpd.read_file(gpd.datasets.get_path('naturalearth_lowres'))\n",
    "# \n",
    "# # Let's assume you have a DataFrame df with columns 'country' and 'average_salary'\n",
    "# data['country'] = data['country'].map(lambda x: world[world['name'] == x]['iso_a3'])\n",
    "# \n",
    "# # Plot the map\n",
    "# fig, ax = plt.subplots()\n",
    "# world.plot(column='average_salary', ax=ax, legend=True)\n",
    "# plt.show()"
   ]
  },
  {
   "cell_type": "code",
   "execution_count": null,
   "id": "55fd2b11c58a4ca0",
   "metadata": {
    "ExecuteTime": {
     "end_time": "2024-01-18T20:04:54.575252900Z",
     "start_time": "2024-01-18T20:04:54.571242600Z"
    },
    "collapsed": false,
    "jupyter": {
     "outputs_hidden": false
    }
   },
   "outputs": [],
   "source": [
    "data"
   ]
  }
 ],
 "metadata": {
  "kernelspec": {
   "display_name": "Python 3 (ipykernel)",
   "language": "python",
   "name": "python3"
  },
  "language_info": {
   "codemirror_mode": {
    "name": "ipython",
    "version": 3
   },
   "file_extension": ".py",
   "mimetype": "text/x-python",
   "name": "python",
   "nbconvert_exporter": "python",
   "pygments_lexer": "ipython3",
   "version": "3.11.7"
  }
 },
 "nbformat": 4,
 "nbformat_minor": 5
}
